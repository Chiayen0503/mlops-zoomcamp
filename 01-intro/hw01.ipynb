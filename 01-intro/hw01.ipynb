{
 "cells": [
  {
   "cell_type": "code",
   "execution_count": 1,
   "id": "2a621a63-b614-4b06-b789-e94d7b4be588",
   "metadata": {},
   "outputs": [
    {
     "name": "stdout",
     "output_type": "stream",
     "text": [
      "Python 3.12.7\n"
     ]
    }
   ],
   "source": [
    "!python -V"
   ]
  },
  {
   "cell_type": "code",
   "execution_count": 2,
   "id": "7af6ead9-2698-4381-b409-25cd31b15d87",
   "metadata": {},
   "outputs": [
    {
     "name": "stdout",
     "output_type": "stream",
     "text": [
      "yellow_tripdata_2023-01.parquet  yellow_tripdata_2023-02.parquet\n"
     ]
    }
   ],
   "source": [
    "!ls data"
   ]
  },
  {
   "cell_type": "markdown",
   "id": "ffda60b2-157f-4043-b069-f0cf713849c6",
   "metadata": {},
   "source": [
    "# check number of columns"
   ]
  },
  {
   "cell_type": "code",
   "execution_count": 3,
   "id": "d89fb7d5-057d-4593-b3fc-9e319c65d87c",
   "metadata": {},
   "outputs": [],
   "source": [
    "import pandas as pd\n",
    "import numpy as np\n",
    "from sklearn.feature_extraction import DictVectorizer\n",
    "from sklearn.linear_model import LinearRegression\n",
    "import seaborn as sns\n",
    "from sklearn.metrics import root_mean_squared_error, mean_squared_error"
   ]
  },
  {
   "cell_type": "code",
   "execution_count": 4,
   "id": "4c139804-cfb2-4dcb-b500-47eba7716ce1",
   "metadata": {},
   "outputs": [
    {
     "name": "stdout",
     "output_type": "stream",
     "text": [
      "19\n"
     ]
    }
   ],
   "source": [
    "df = pd.read_parquet('./data/yellow_tripdata_2023-01.parquet')\n",
    "print(len(df.columns))"
   ]
  },
  {
   "cell_type": "code",
   "execution_count": 5,
   "id": "8ea18862-ca35-47de-8658-7fae731f9b13",
   "metadata": {},
   "outputs": [
    {
     "data": {
      "text/plain": [
       "VendorID                          int64\n",
       "tpep_pickup_datetime     datetime64[us]\n",
       "tpep_dropoff_datetime    datetime64[us]\n",
       "passenger_count                 float64\n",
       "trip_distance                   float64\n",
       "RatecodeID                      float64\n",
       "store_and_fwd_flag               object\n",
       "PULocationID                      int64\n",
       "DOLocationID                      int64\n",
       "payment_type                      int64\n",
       "fare_amount                     float64\n",
       "extra                           float64\n",
       "mta_tax                         float64\n",
       "tip_amount                      float64\n",
       "tolls_amount                    float64\n",
       "improvement_surcharge           float64\n",
       "total_amount                    float64\n",
       "congestion_surcharge            float64\n",
       "airport_fee                     float64\n",
       "dtype: object"
      ]
     },
     "execution_count": 5,
     "metadata": {},
     "output_type": "execute_result"
    }
   ],
   "source": [
    "df.dtypes"
   ]
  },
  {
   "cell_type": "code",
   "execution_count": 6,
   "id": "a5d99136-f142-432d-a7c3-da84d06c9f00",
   "metadata": {},
   "outputs": [
    {
     "name": "stdout",
     "output_type": "stream",
     "text": [
      "0    N\n",
      "1    N\n",
      "2    N\n",
      "3    N\n",
      "4    N\n",
      "5    N\n",
      "6    N\n",
      "7    N\n",
      "8    N\n",
      "9    N\n",
      "Name: store_and_fwd_flag, dtype: object\n"
     ]
    }
   ],
   "source": [
    "print(df['store_and_fwd_flag'].iloc[:10])"
   ]
  },
  {
   "cell_type": "code",
   "execution_count": 7,
   "id": "eaa097c7-fae9-4708-ae04-6f5b2d6d7284",
   "metadata": {},
   "outputs": [],
   "source": [
    "# calculate and turn duration to mins\n",
    "df['duration'] = df.tpep_dropoff_datetime - df.tpep_pickup_datetime #calculate duration\n",
    "df.duration = df.duration.apply(lambda td: td.total_seconds()/60) #convert it (secs) to mins"
   ]
  },
  {
   "cell_type": "markdown",
   "id": "84ed6e6a-eefd-471b-958c-1d20fa3ae9d8",
   "metadata": {},
   "source": [
    "# calculate standard deviation of duration"
   ]
  },
  {
   "cell_type": "code",
   "execution_count": 8,
   "id": "06f4508b-1599-4c5b-ae29-25a2010cc6ee",
   "metadata": {},
   "outputs": [
    {
     "name": "stdout",
     "output_type": "stream",
     "text": [
      "42.5943442974141\n"
     ]
    }
   ],
   "source": [
    "duration_std = np.std(df['duration'])\n",
    "print(duration_std)"
   ]
  },
  {
   "cell_type": "markdown",
   "id": "0069294b-98b3-4d11-b346-904ebef9a034",
   "metadata": {},
   "source": [
    "# check outlier percentage over the whole dataset"
   ]
  },
  {
   "cell_type": "code",
   "execution_count": 9,
   "id": "e9137092-b6b0-4a17-9da0-9e2f0c79acb2",
   "metadata": {},
   "outputs": [
    {
     "name": "stdout",
     "output_type": "stream",
     "text": [
      "0.9812202822125979\n"
     ]
    }
   ],
   "source": [
    "total = len(df) #before dropping outliers\n",
    "df = df[(df['duration']<=60) & (df['duration']>=1)]\n",
    "print(len(df)/total)"
   ]
  },
  {
   "cell_type": "markdown",
   "id": "89b7b48f-b484-45fb-9f52-877f04e17f6d",
   "metadata": {},
   "source": [
    "# one hot encode pickup and dropoff location IDs\n",
    "PULocationID and DOLocationID"
   ]
  },
  {
   "cell_type": "markdown",
   "id": "1f091985-3b0e-4e81-82c6-5884aac49a30",
   "metadata": {},
   "source": [
    "1. Turn the dataframe into a list of dictionaries (remember to re-cast the ids to strings - otherwise it will label encode them)\n",
    "   (source: https://saturncloud.io/blog/how-to-convert-dataframe-to-dictionary-in-pandas-without-index/#:~:text=Pandas%20provides%20the%20to_dict(),format%20of%20the%20resulting%20dictionary.)"
   ]
  },
  {
   "cell_type": "code",
   "execution_count": 10,
   "id": "e82e6a90-0b94-42b3-b32f-5a2d0572f741",
   "metadata": {},
   "outputs": [],
   "source": [
    "categorical = ['PULocationID', 'DOLocationID']\n",
    "numerical = ['trip_distance']\n",
    "df[categorical] = df[categorical].astype(str)\n"
   ]
  },
  {
   "cell_type": "code",
   "execution_count": 12,
   "id": "d5da0076-8ce0-4e6d-93a2-95f495631f95",
   "metadata": {},
   "outputs": [
    {
     "name": "stdout",
     "output_type": "stream",
     "text": [
      "[{'PULocationID': '161', 'DOLocationID': '141'}, {'PULocationID': '43', 'DOLocationID': '237'}, {'PULocationID': '48', 'DOLocationID': '238'}, {'PULocationID': '138', 'DOLocationID': '7'}, {'PULocationID': '107', 'DOLocationID': '79'}, {'PULocationID': '161', 'DOLocationID': '137'}, {'PULocationID': '239', 'DOLocationID': '143'}, {'PULocationID': '142', 'DOLocationID': '200'}, {'PULocationID': '164', 'DOLocationID': '236'}, {'PULocationID': '141', 'DOLocationID': '107'}]\n"
     ]
    }
   ],
   "source": [
    "train_dicts = df[categorical].to_dict(orient = 'records')\n",
    "#only get three features: PULocationID, DOLocationID and trip_distance\n",
    "#turn dataframe to a list of dictionaries\n",
    "print(train_dicts[:10])"
   ]
  },
  {
   "cell_type": "code",
   "execution_count": 13,
   "id": "e582d9fd-4acb-47cb-a42a-120954d35864",
   "metadata": {},
   "outputs": [
    {
     "name": "stdout",
     "output_type": "stream",
     "text": [
      "(3009173, 515)\n"
     ]
    }
   ],
   "source": [
    "dv = DictVectorizer()\n",
    "X_train = dv.fit_transform(train_dicts)#transform a list of dictionaries to a training matrix\n",
    "print(X_train.shape)"
   ]
  },
  {
   "cell_type": "code",
   "execution_count": 59,
   "id": "b155cdae-7317-4c69-94ce-3c0c920b95ff",
   "metadata": {},
   "outputs": [],
   "source": [
    "# dv.feature_names_"
   ]
  },
  {
   "cell_type": "code",
   "execution_count": 14,
   "id": "ab2c9645-11c3-4d01-8f90-8fbb6db0c1bf",
   "metadata": {},
   "outputs": [
    {
     "name": "stdout",
     "output_type": "stream",
     "text": [
      "(3009173,)\n"
     ]
    }
   ],
   "source": [
    "target = 'duration'\n",
    "y_train = df[target].values\n",
    "print(y_train.shape)"
   ]
  },
  {
   "cell_type": "markdown",
   "id": "736c9062-bd1f-4c2d-aeec-adfe15ed0cbd",
   "metadata": {},
   "source": [
    "# Train a Linear Regression to predict duration and get RMSE on train set"
   ]
  },
  {
   "cell_type": "code",
   "execution_count": 15,
   "id": "05258969-3501-465d-89e8-1a684959d40c",
   "metadata": {},
   "outputs": [
    {
     "name": "stderr",
     "output_type": "stream",
     "text": [
      "/tmp/ipykernel_18193/2002317658.py:4: UserWarning: \n",
      "\n",
      "`distplot` is a deprecated function and will be removed in seaborn v0.14.0.\n",
      "\n",
      "Please adapt your code to use either `displot` (a figure-level function with\n",
      "similar flexibility) or `histplot` (an axes-level function for histograms).\n",
      "\n",
      "For a guide to updating your code to use the new functions, please see\n",
      "https://gist.github.com/mwaskom/de44147ed2974457ad6372750bbe5751\n",
      "\n",
      "  sns.distplot(y_pred, label='prediction')\n",
      "/tmp/ipykernel_18193/2002317658.py:5: UserWarning: \n",
      "\n",
      "`distplot` is a deprecated function and will be removed in seaborn v0.14.0.\n",
      "\n",
      "Please adapt your code to use either `displot` (a figure-level function with\n",
      "similar flexibility) or `histplot` (an axes-level function for histograms).\n",
      "\n",
      "For a guide to updating your code to use the new functions, please see\n",
      "https://gist.github.com/mwaskom/de44147ed2974457ad6372750bbe5751\n",
      "\n",
      "  sns.distplot(y_train, label='actual')\n"
     ]
    },
    {
     "data": {
      "text/plain": [
       "<Axes: ylabel='Density'>"
      ]
     },
     "execution_count": 15,
     "metadata": {},
     "output_type": "execute_result"
    },
    {
     "data": {
      "image/png": "[encoded data removed]",
      "text/plain": [
       "<Figure size 640x480 with 1 Axes>"
      ]
     },
     "metadata": {},
     "output_type": "display_data"
    }
   ],
   "source": [
    "lr = LinearRegression().fit(X_train, y_train)\n",
    "y_pred = lr.predict(X_train)\n",
    "\n",
    "sns.distplot(y_pred, label='prediction')\n",
    "sns.distplot(y_train, label='actual')"
   ]
  },
  {
   "cell_type": "code",
   "execution_count": 16,
   "id": "329a54f2-3d09-4f84-9689-c60c78aefe0f",
   "metadata": {},
   "outputs": [
    {
     "name": "stdout",
     "output_type": "stream",
     "text": [
      "7.64926205038864\n",
      "7.64926205038864\n"
     ]
    },
    {
     "name": "stderr",
     "output_type": "stream",
     "text": [
      "/home/ubuntu/anaconda3/lib/python3.12/site-packages/sklearn/metrics/_regression.py:492: FutureWarning: 'squared' is deprecated in version 1.4 and will be removed in 1.6. To calculate the root mean squared error, use the function'root_mean_squared_error'.\n",
      "  warnings.warn(\n"
     ]
    }
   ],
   "source": [
    "print(root_mean_squared_error( y_train, y_pred))\n",
    "print(mean_squared_error( y_train, y_pred, squared=False))"
   ]
  },
  {
   "cell_type": "code",
   "execution_count": 17,
   "id": "5eb16330-a1fe-421d-a92e-5c4976355778",
   "metadata": {},
   "outputs": [],
   "source": [
    "# load validation set \n",
    "\n",
    "def read_dataframe(fname):\n",
    "    df = pd.read_parquet(fname)\n",
    "    \n",
    "    df['duration'] = df.tpep_dropoff_datetime - df.tpep_pickup_datetime #calculate duration\n",
    "    df.duration = df.duration.apply(lambda td: td.total_seconds()/60) #convert it (secs) to mins\n",
    "    \n",
    "    df = df[(df['duration']<=60) & (df['duration']>=1)]\n",
    "\n",
    "    categorical = ['PULocationID', 'DOLocationID']\n",
    "    \n",
    "    df[categorical] = df[categorical].astype(str)\n",
    "    return df\n",
    "\n",
    "    "
   ]
  },
  {
   "cell_type": "code",
   "execution_count": 35,
   "id": "6691b5ba-1854-430b-9b36-263478024795",
   "metadata": {},
   "outputs": [
    {
     "name": "stdout",
     "output_type": "stream",
     "text": [
      "3009173 2855951\n"
     ]
    }
   ],
   "source": [
    "df_train = read_dataframe('./data/yellow_tripdata_2023-01.parquet')\n",
    "df_val = read_dataframe('./data/yellow_tripdata_2023-02.parquet')\n",
    "print(len(df_train), len(df_val))"
   ]
  },
  {
   "cell_type": "code",
   "execution_count": null,
   "id": "214dfed2-1264-40ed-bcb2-76fc9f7a5964",
   "metadata": {},
   "outputs": [],
   "source": []
  },
  {
   "cell_type": "code",
   "execution_count": 38,
   "id": "99406abf-718c-4285-b350-d9c0c9847e95",
   "metadata": {},
   "outputs": [
    {
     "name": "stdout",
     "output_type": "stream",
     "text": [
      "(3009173, 516) (2855951, 516) (3009173,) (2855951,)\n"
     ]
    }
   ],
   "source": [
    "numerical = ['trip_distance']\n",
    "categorical = ['PULocationID', 'DOLocationID']\n",
    "target = 'duration'\n",
    "dv = DictVectorizer()\n",
    "train_dicts = df_train[categorical+numerical].to_dict(orient = 'records')\n",
    "X_train = dv.fit_transform(train_dicts)\n",
    "y_train = df_train[target].values\n",
    "\n",
    "val_dicts = df_val[categorical+numerical].to_dict(orient = 'records')\n",
    "X_val = dv.transform(val_dicts)\n",
    "y_val = df_val[target].values\n",
    "\n",
    "print(X_train.shape, X_val.shape, y_train.shape, y_val.shape)"
   ]
  },
  {
   "cell_type": "code",
   "execution_count": 39,
   "id": "ae757ada-b5c9-4ba5-a14a-22884ab1f694",
   "metadata": {},
   "outputs": [
    {
     "name": "stdout",
     "output_type": "stream",
     "text": [
      "7.658406463987032\n",
      "7.820103694400468\n"
     ]
    },
    {
     "name": "stderr",
     "output_type": "stream",
     "text": [
      "/home/ubuntu/anaconda3/lib/python3.12/site-packages/sklearn/metrics/_regression.py:492: FutureWarning: 'squared' is deprecated in version 1.4 and will be removed in 1.6. To calculate the root mean squared error, use the function'root_mean_squared_error'.\n",
      "  warnings.warn(\n",
      "/home/ubuntu/anaconda3/lib/python3.12/site-packages/sklearn/metrics/_regression.py:492: FutureWarning: 'squared' is deprecated in version 1.4 and will be removed in 1.6. To calculate the root mean squared error, use the function'root_mean_squared_error'.\n",
      "  warnings.warn(\n"
     ]
    }
   ],
   "source": [
    "# fit train\n",
    "lr = LinearRegression().fit(X_train, y_train)\n",
    "y_hat_train = lr.predict(X_train)\n",
    "\n",
    "# validate train \n",
    "print(mean_squared_error( y_train, y_hat_train, squared=False))\n",
    "\n",
    "# predict val and validate val\n",
    "y_pred = lr.predict(X_val)\n",
    "print(mean_squared_error( y_val, y_pred, squared=False))\n"
   ]
  },
  {
   "cell_type": "code",
   "execution_count": null,
   "id": "7427f2cb-5e9d-4a82-94ad-680b9b80be78",
   "metadata": {},
   "outputs": [],
   "source": []
  }
 ],
 "metadata": {
  "kernelspec": {
   "display_name": "Python 3 (ipykernel)",
   "language": "python",
   "name": "python3"
  },
  "language_info": {
   "codemirror_mode": {
    "name": "ipython",
    "version": 3
   },
   "file_extension": ".py",
   "mimetype": "text/x-python",
   "name": "python",
   "nbconvert_exporter": "python",
   "pygments_lexer": "ipython3",
   "version": "3.12.7"
  }
 },
 "nbformat": 4,
 "nbformat_minor": 5
}
